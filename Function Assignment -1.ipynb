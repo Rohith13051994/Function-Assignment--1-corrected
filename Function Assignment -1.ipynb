{
 "cells": [
  {
   "cell_type": "code",
   "execution_count": 4,
   "id": "1da2d084-34c2-415c-b0e9-664ba13d8266",
   "metadata": {},
   "outputs": [],
   "source": [
    "# Create a class and function, and list out the items in the list\n",
    "\n",
    "def subfields():\n",
    "    SubFieldsInAI = [\"Machine Learning\", \"Neural Networks\", \"Vision\", \"Robotics\", \"Speech Processing\", \"Natural Language Processing\"]\n",
    "    print(\"Subfields in AI :\")\n",
    "    for SubAI in SubFieldsInAI:\n",
    "        print(SubAI)"
   ]
  },
  {
   "cell_type": "code",
   "execution_count": 182,
   "id": "ab320897-de7e-409f-93bb-95f64f3d46fc",
   "metadata": {},
   "outputs": [
    {
     "name": "stdout",
     "output_type": "stream",
     "text": [
      "Subfields in AI :\n",
      "Machine Learning\n",
      "Neural Networks\n",
      "Vision\n",
      "Robotics\n",
      "Speech Processing\n",
      "Natural Language Processing\n"
     ]
    }
   ],
   "source": [
    "subfields()"
   ]
  },
  {
   "cell_type": "code",
   "execution_count": 2,
   "id": "2ff9740d-e0f2-40fd-87f0-c3c9a8b8570f",
   "metadata": {},
   "outputs": [],
   "source": [
    "# Create a function that checks whether the given number is Odd or Even"
   ]
  },
  {
   "cell_type": "code",
   "execution_count": 6,
   "id": "c67071ca-14a1-43fa-8fd1-67f588efb92a",
   "metadata": {},
   "outputs": [],
   "source": [
    "def OddorEven():\n",
    "    num=int(input(\"Enter the Number :\"))\n",
    "    if(num%2 != 0):\n",
    "        message=print(num, \"is odd number\")\n",
    "    else:\n",
    "        message=print(num, \"is even number\")\n",
    "        return message"
   ]
  },
  {
   "cell_type": "code",
   "execution_count": 10,
   "id": "e394054d-3efe-4cb1-a479-2a96d14e09ba",
   "metadata": {},
   "outputs": [
    {
     "name": "stdin",
     "output_type": "stream",
     "text": [
      "Enter the Number : 52452\n"
     ]
    },
    {
     "name": "stdout",
     "output_type": "stream",
     "text": [
      "52452 is even number\n"
     ]
    }
   ],
   "source": [
    "OddorEven()"
   ]
  },
  {
   "cell_type": "code",
   "execution_count": 14,
   "id": "e7598efa-1c51-427b-9a40-679d7b6a1910",
   "metadata": {},
   "outputs": [],
   "source": [
    "# Create a function that tells elegibility of marriage for male and female according to their age limit like 21 for male and 18 for female"
   ]
  },
  {
   "cell_type": "code",
   "execution_count": 22,
   "id": "ac05c5ec-bd3f-46f4-995b-d68020bdca46",
   "metadata": {},
   "outputs": [],
   "source": [
    "def Eligiblity():\n",
    "    Gender = input(\"Your Gender : \")\n",
    "    Age = int(input(\"Your Age : \"))\n",
    "    if((Gender == \"Male\") and Age > 21):\n",
    "        message = print(\"ELIGIBLE\")\n",
    "    elif ((Gender == \"Female\") and Age > 18):\n",
    "        message = print(\"ELIGIBLE\")\n",
    "    else:\n",
    "        message= print(\"NOT ELIGIBLE\")\n",
    "    return message"
   ]
  },
  {
   "cell_type": "code",
   "execution_count": 24,
   "id": "9f04ed42-db5a-41c2-a2b3-8d9e292ee716",
   "metadata": {},
   "outputs": [
    {
     "name": "stdin",
     "output_type": "stream",
     "text": [
      "Your Gender :  Male\n",
      "Your Age :  20\n"
     ]
    },
    {
     "name": "stdout",
     "output_type": "stream",
     "text": [
      "NOT ELIGIBLE\n"
     ]
    }
   ],
   "source": [
    "Eligiblity()"
   ]
  },
  {
   "cell_type": "code",
   "execution_count": 26,
   "id": "58641b3b-e2a4-4f74-99cb-46a10fc92d05",
   "metadata": {},
   "outputs": [],
   "source": [
    "# calculate the percentage of your 10th mark"
   ]
  },
  {
   "cell_type": "code",
   "execution_count": 50,
   "id": "aa815a5a-2bc4-4bb6-8e42-8ecc37c780bd",
   "metadata": {},
   "outputs": [
    {
     "name": "stdout",
     "output_type": "stream",
     "text": [
      "Subject1 = 98\n",
      "Subject2 = 87\n",
      "Subject3 = 95\n",
      "Subject4 = 95\n",
      "Subject5 = 93\n",
      "Total : 468\n",
      "Percentage : 93.6000000000\n"
     ]
    }
   ],
   "source": [
    "subjects = [\"Subject1\", \"Subject2\", \"Subject3\", \"Subject4\", \"Subject5\"]\n",
    "marks = [98, 87, 95, 95, 93]\n",
    "\n",
    "for i in range(len(subjects)):\n",
    "    print(subjects[i] + \" = \" + str(marks[i]))\n",
    "\n",
    "total = sum(marks)\n",
    "print(\"Total : \" + str(total))\n",
    "\n",
    "percentage = total / len(marks)\n",
    "print(\"Percentage : \" + format(percentage, '.10f'))"
   ]
  },
  {
   "cell_type": "code",
   "execution_count": 32,
   "id": "3d61c0ef-42d1-4fef-bbf8-2d45bf213e62",
   "metadata": {},
   "outputs": [],
   "source": [
    "#print area and perimeter of triangle using class and functions"
   ]
  },
  {
   "cell_type": "code",
   "execution_count": 34,
   "id": "6557f2b2-72b4-40a9-8abc-1ad4558b785a",
   "metadata": {},
   "outputs": [
    {
     "name": "stdin",
     "output_type": "stream",
     "text": [
      "Height :  32\n",
      "Breadth :  34\n"
     ]
    },
    {
     "name": "stdout",
     "output_type": "stream",
     "text": [
      "Area of Triangle formula : (Height * Breadth) / 2\n",
      "Area of Triangle formula :  544.0\n"
     ]
    },
    {
     "name": "stdin",
     "output_type": "stream",
     "text": [
      "Height1 :  2\n",
      "Height2 :  4\n",
      "Height3 :  4\n"
     ]
    },
    {
     "name": "stdout",
     "output_type": "stream",
     "text": [
      "Perimeter of Triangle : Height1 + Height2 + Breadth\n",
      "Perimeter of Triangle :  10\n"
     ]
    }
   ],
   "source": [
    "def AreaTriangle():\n",
    "    Height = int(input(\"Height : \"))\n",
    "    Breadth = int(input(\"Breadth : \"))\n",
    "    Area_of_Tri = (Height * Breadth) / 2\n",
    "    print(\"Area of Triangle formula : (Height * Breadth) / 2\")\n",
    "    print(\"Area of Triangle formula : \", Area_of_Tri)\n",
    "\n",
    "def PerimeterTriangle():\n",
    "    Height1 = int(input(\"Height1 : \"))\n",
    "    Height2 = int(input(\"Height2 : \"))\n",
    "    Height3 = int(input(\"Height3 : \"))\n",
    "    Perimeter_of_Tri = Height1 + Height2 + Height3\n",
    "    print(\"Perimeter of Triangle : Height1 + Height2 + Breadth\")\n",
    "    print(\"Perimeter of Triangle : \", Perimeter_of_Tri)\n",
    "\n",
    "AreaTriangle()\n",
    "PerimeterTriangle()"
   ]
  },
  {
   "cell_type": "code",
   "execution_count": null,
   "id": "46d2451e-3faa-4471-8210-988df9515aad",
   "metadata": {},
   "outputs": [],
   "source": []
  }
 ],
 "metadata": {
  "kernelspec": {
   "display_name": "Python 3 (ipykernel)",
   "language": "python",
   "name": "python3"
  },
  "language_info": {
   "codemirror_mode": {
    "name": "ipython",
    "version": 3
   },
   "file_extension": ".py",
   "mimetype": "text/x-python",
   "name": "python",
   "nbconvert_exporter": "python",
   "pygments_lexer": "ipython3",
   "version": "3.11.7"
  }
 },
 "nbformat": 4,
 "nbformat_minor": 5
}
